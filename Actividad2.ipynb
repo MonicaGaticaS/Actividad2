{
  "nbformat": 4,
  "nbformat_minor": 0,
  "metadata": {
    "colab": {
      "provenance": [],
      "toc_visible": true
    },
    "kernelspec": {
      "name": "python3",
      "display_name": "Python 3"
    },
    "language_info": {
      "name": "python"
    }
  },
  "cells": [
    {
      "cell_type": "markdown",
      "source": [
        "# A2.- Ejercicios en Python\n",
        "### Monica Atziri Gatica Steele 2035614 Hora: N1 \n",
        "Objetivo.-\n",
        "Practicar el lenguaje de programación Python, su sintaxis y lógica de programación en general.\n",
        "Conocer la interfaz y funcionamiento de Google Colab.\n",
        "\n",
        "\n",
        "---\n",
        "\n"
      ],
      "metadata": {
        "id": "OWPyoOAky3Jh"
      }
    },
    {
      "cell_type": "markdown",
      "source": [
        "### Ejercicio 1.-Desarrolla un algoritmo que le pida al usuario por su nombre y que lo salude con su nombre, excepto si se llama “Ana”, “Juan”, y “Pedro”.\n"
      ],
      "metadata": {
        "id": "gJJxjkpyygiZ"
      }
    },
    {
      "cell_type": "code",
      "execution_count": 6,
      "metadata": {
        "colab": {
          "base_uri": "https://localhost:8080/"
        },
        "id": "i7dGMyyyyc8G",
        "outputId": "f054c2fc-c614-4cbc-c048-90c1b3dc695c"
      },
      "outputs": [
        {
          "output_type": "stream",
          "name": "stdout",
          "text": [
            "Por favor ingrese su nombre: Moni\n",
            "Hola, Moni\n"
          ]
        }
      ],
      "source": [
        "# Pide el nombre a ingresar\n",
        "nombre = input(\"Por favor ingrese su nombre: \")\n",
        "\n",
        "# Verificar si el nombre está en la lista de nombres especiales\n",
        "if nombre in [\"Ana\", \"Juan\", \"Pedro\"]:\n",
        "    print(\"Disculpa,\", nombre, \" pero no puedes ingresar. Favor de comunicarse con el Admin\")\n",
        "else:\n",
        "    # Imprime saludo\n",
        "    print(\"Hola,\", nombre)\n"
      ]
    },
    {
      "cell_type": "markdown",
      "source": [
        "### Ejercicio 2.- Desarrolla un algoritmo que por medio de una función, le pida al usuario una lista de N elementos y como resultado invierta el sentido de la lista.\n",
        "\n"
      ],
      "metadata": {
        "id": "EnEOiKSKzVed"
      }
    },
    {
      "cell_type": "code",
      "source": [
        "#Se define la funcion Lista \n",
        "def Lista():\n",
        "  #Se crea la variable donde pide cuantos elementos ingresaran\n",
        "    N = int(input(\"Ingrese la cantidad de elementos de la lista: \"))\n",
        "    #Crea una lista vacía llamada \"lista\" para almacenar los elementos ingresados por el usuario.\n",
        "    lista = []\n",
        "    #Utiliza un bucle \"for\" para solicitar cada uno de los elementos de la lista\n",
        "    for variable in range(N):\n",
        "        elemento = input(\"Ingrese el elemento \" + str(variable+1) + \": \")\n",
        "        lista.append(elemento)\n",
        "        #nvierte el orden de los elementos en la lista utilizando la sintaxis de \"rebanado\" (slice) \"lista[::-1]\". \n",
        "        Lista = lista[::-1]\n",
        "        #Imprime la lista invertida utilizando la función \"print()\".\n",
        "    print(\"La lista invertida es: \", Lista)\n",
        "    #Vuelve a pedir la función\n",
        "Lista()\n"
      ],
      "metadata": {
        "colab": {
          "base_uri": "https://localhost:8080/"
        },
        "id": "mRifGdDY3F_S",
        "outputId": "27fb57d9-555b-459e-f53a-363536cf381c"
      },
      "execution_count": 5,
      "outputs": [
        {
          "output_type": "stream",
          "name": "stdout",
          "text": [
            "Ingrese la cantidad de elementos de la lista: 4\n",
            "Ingrese el elemento 1: 4\n",
            "Ingrese el elemento 2: 3\n",
            "Ingrese el elemento 3: 2\n",
            "Ingrese el elemento 4: 1\n",
            "La lista invertida es:  ['1', '2', '3', '4']\n"
          ]
        }
      ]
    },
    {
      "cell_type": "markdown",
      "source": [
        "\n",
        "\n",
        "### Ejercicio 3.- Desarrolla un algoritmo que le pregunte al usuario cuántos números de la serie de Fibonnaci quiere generar y que al final los imprima."
      ],
      "metadata": {
        "id": "jBx7WcApzbZM"
      }
    },
    {
      "cell_type": "code",
      "source": [
        "#Variable N, pide ingresar como entrada solo numeros enteros\n",
        "N = int(input(\"Ingrese la cantidad de números de la serie de Fibonacci que desea obtener: \"))\n",
        "\n",
        "# Definimos los dos primeros números de la serie de Fibonacci\n",
        "a, b = 0, 1\n",
        "\n",
        "# Generamos la serie de Fibonacci\n",
        "for serie in range(N):\n",
        "  \n",
        "  #Imprime serie\n",
        "    print(a)\n",
        "    a, b = b, a + b\n"
      ],
      "metadata": {
        "colab": {
          "base_uri": "https://localhost:8080/"
        },
        "id": "YDVcM_jBzbno",
        "outputId": "ac3d521c-f6a5-488b-c8d2-b04a41697df5"
      },
      "execution_count": 7,
      "outputs": [
        {
          "output_type": "stream",
          "name": "stdout",
          "text": [
            "Ingrese la cantidad de números de la serie de Fibonacci que desea obtener: 9\n",
            "0\n",
            "1\n",
            "1\n",
            "2\n",
            "3\n",
            "5\n",
            "8\n",
            "13\n",
            "21\n"
          ]
        }
      ]
    },
    {
      "cell_type": "markdown",
      "source": [
        "\n",
        "##Referencias.\n",
        "Matthes, E. (2023). Python crash course. No starch press.\n",
        "https://www.w3schools.com/python/default.asp"
      ],
      "metadata": {
        "id": "BBfInkZZ3WtG"
      }
    }
  ]
}